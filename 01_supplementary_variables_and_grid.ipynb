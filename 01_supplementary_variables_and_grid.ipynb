{
 "cells": [
  {
   "cell_type": "code",
   "execution_count": 3,
   "id": "737e8cbb-1548-475a-94d1-666b180c0eed",
   "metadata": {
    "tags": []
   },
   "outputs": [],
   "source": [
    "import importlib, os, gc, sys\n",
    "import SXBQ as sx\n",
    "\n",
    "from tqdm.notebook import tqdm\n",
    "import numpy as np\n",
    "import pandas as pd\n",
    "import xarray as xr\n",
    "import matplotlib.pyplot as plt\n",
    "from scipy.interpolate import interp1d\n",
    "from scipy.optimize import fsolve, fmin\n",
    "from scipy.signal import convolve as conv\n",
    "import gsw\n",
    "import cmocean.cm as cmo\n",
    "from datetime import datetime as dt\n",
    "import matplotlib.dates as mdates\n",
    "import math\n",
    "\n",
    "from matplotlib.gridspec import GridSpec\n",
    "\n",
    "import glidertools as gt\n",
    "import matplotlib.colors as colors\n",
    "import matplotlib.cm as cm\n",
    "\n",
    "import seaborn as sns\n",
    "sns.set(    rc={\n",
    "         'axes.axisbelow': False,\n",
    "         'axes.edgecolor': 'Black',\n",
    "         'axes.facecolor': 'white',\n",
    "         'axes.grid': False,\n",
    "         'axes.labelcolor': 'dimgray',\n",
    "            \n",
    "         'axes.spines.right': True,\n",
    "         'axes.spines.top': True,\n",
    "         'figure.facecolor': 'white',\n",
    "         'lines.solid_capstyle': 'round',\n",
    "         'patch.edgecolor': 'k',\n",
    "         'patch.force_edgecolor': True,\n",
    "         'text.color': 'dimgray',\n",
    "         'xtick.bottom': True,\n",
    "         'xtick.color': 'dimgray',\n",
    "         'xtick.direction': 'out',\n",
    "         'xtick.top': False,\n",
    "         'ytick.color': 'dimgray',\n",
    "         'ytick.direction': 'out',\n",
    "         'ytick.left': True,\n",
    "         'ytick.right': False},\n",
    "         font_scale=1.6)\n",
    "\n",
    "import warnings\n",
    "warnings.filterwarnings('ignore')\n",
    "\n",
    "def interp(x,y,xi):\n",
    "    _gg = np.isfinite(x+y)\n",
    "    return interp1d(x[_gg], y[_gg], bounds_error=False, fill_value=np.NaN)(xi)"
   ]
  },
  {
   "cell_type": "markdown",
   "id": "81844a45",
   "metadata": {},
   "source": [
    "## Import glider timeseries"
   ]
  },
  {
   "cell_type": "code",
   "execution_count": 4,
   "id": "0d5e309c",
   "metadata": {
    "tags": []
   },
   "outputs": [],
   "source": [
    "## SG 2015-16  (Data Access:)\n",
    "ds_79= xr.open_dataset('/home/jupyter-estelfont/common/fridge/2015_16_OMAN/SG579_timeseries.nc')\n",
    "ds_10= xr.open_dataset('/home/jupyter-estelfont/common/fridge/2015_16_OMAN/SG510_timeseries.nc')\n",
    "ds_02= xr.open_dataset('/home/jupyter-estelfont/common/fridge/2015_16_OMAN/SG502_timeseries.nc')\n",
    "\n",
    "# # SeaExplorer 2021-22  (Data Access:)\n",
    "ds= xr.open_dataset('/home/jupyter-estelfont/common/kitchensink/for_Bastien_oman/SEA057_glider.nc')\n",
    "dadcp= xr.open_dataset('/home/jupyter-estelfont/common/kitchensink/for_Bastien_oman/SEA057_AD2CP.nc')"
   ]
  },
  {
   "cell_type": "markdown",
   "id": "79a6e320",
   "metadata": {},
   "source": [
    "## SeaExplorer and SeaGlider basic processing and flagging"
   ]
  },
  {
   "cell_type": "code",
   "execution_count": 5,
   "id": "96a08ec4-b4e9-4fa0-b737-a2c61195311d",
   "metadata": {
    "tags": []
   },
   "outputs": [],
   "source": [
    "ds.abs_salinity[ds.flag==True]=np.nan\n",
    "ds.cons_temp[ds.flag==True]=np.nan\n",
    "ds.oxygen_concentration[ds.flag==True]=np.nan\n",
    "ds.potential_density[ds.flag==True]=np.nan\n",
    "ds['pressure']=ds.pressure.ffill(dim='time').bfill(dim='time')\n",
    "\n",
    "def _process(data):\n",
    "    data['spice']=('time', gsw.spiciness0(data.abs_salinity, data.cons_temp).values   )\n",
    "    o2_sol = gsw.O2sol(data['abs_salinity'].values,data['cons_temp'].values,data['pressure'].values,data['longitude'].values,data['latitude'].values)\n",
    "    ds['aou'] =('time', (o2_sol - data['oxygen_concentration']).values)\n",
    "    return data\n",
    "\n",
    "ds = _process(ds)\n",
    "\n",
    "dadcp['flag']=('time', interp(ds.time.values.astype(float), ds.flag.values, dadcp.time.values))    \n",
    "dadcp['speed']=('time', np.sqrt(dadcp['V_refE']**2+dadcp['V_refN']**2).values)\n",
    "dadcp['potential_density']=('time', interp(ds.time.values.astype(float), ds.potential_density.values, dadcp.time.values))    \n",
    "dadcp['V_along']=dadcp['V_refE']*np.cos(np.deg2rad(25))-dadcp['V_refN']*np.sin(np.deg2rad(25))\n",
    "dadcp['V_across']=dadcp['V_refE']*np.sin(np.deg2rad(25))+dadcp['V_refN']*np.cos(np.deg2rad(25))\n",
    "dadcp['abs_salinity']=('time', interp(ds.time.values.astype(float), ds.abs_salinity.values, dadcp.time.values))    \n",
    "dadcp['cons_temp']=('time', interp(ds.time.values.astype(float), ds.cons_temp.values, dadcp.time.values))    "
   ]
  },
  {
   "cell_type": "code",
   "execution_count": 6,
   "id": "ad94440b",
   "metadata": {
    "tags": []
   },
   "outputs": [],
   "source": [
    "def _SG_process(data):    \n",
    "    from datetime import datetime\n",
    "\n",
    "    def date2float(d, epoch=pd.to_datetime(0)):\n",
    "        return (d - epoch).dt.total_seconds()\n",
    "\n",
    "    offset = datetime(1970, 1, 1).toordinal() + 366  #719529\n",
    "    datatime=pd.to_datetime(data.time.values-offset, unit='D')\n",
    "    # Produce a time array in seconds, as we always need it, for shorthand:\n",
    "    time = date2float(pd.DataFrame(datatime)[0])\n",
    "    time = time-time[0]\n",
    "    data['timestamp'] = ('time', datatime)\n",
    "    data['date_float'] = ('time', date2float(pd.DataFrame(datatime)[0]))\n",
    "    data['time']=data.timestamp\n",
    "    \n",
    "    data=data.rename_vars({'lon':'longitude',  'lat':'latitude' , 'temp':'temperature', 'oxygen':'oxygen_concentration'})\n",
    "    data['abs_salinty'] = ('time', gsw.SA_from_SP((data['salinity']*data['flag']).values,data['pressure'].values,data['longitude'].values,data['latitude'].values))\n",
    "    data['cons_temp'] = ('time',gsw.CT_from_t(data['abs_salinty'].values,(data['temperature']*data['flag']).values,data['pressure'].values))\n",
    "    data['potential_density'] = ('time',gsw.sigma0(data['abs_salinty'].values,data['cons_temp'].values))\n",
    "    # data['soundspeed'] = ('time',gsw.sound_speed(data['sa'].values,data['ct'].values,data['pressure'].values))\n",
    "    data['spice']=('time', gsw.spiciness0(data.abs_salinty, data.cons_temp).values   )\n",
    "\n",
    "    o2_sol = gsw.O2sol(data['abs_salinty'],data['cons_temp'],data['pressure'],data['longitude'],data['latitude'])\n",
    "    # o2_sat =  data['AROD_FT_DO'] / gsw.O2sol( data['sa']*0, data['AROD_FT_TEMP'], data['pressure']*0,data['longitude'],data['latitude'])\n",
    "    # data['o2'] = ('time',(o2_sat * o2_sol).values)\n",
    "    # data['o2_sat'] =('time', (o2_sat * 100).values)\n",
    "    data['aou'] =('time', (o2_sol - data['oxygen_concentration']).values)\n",
    "    return data\n",
    "\n",
    "ds_79 = _SG_process(ds_79)\n",
    "ds_10 = _SG_process(ds_10)\n",
    "ds_02 = _SG_process(ds_02)\n",
    "\n",
    "ds_10['profile_num']=ds_10.profile_num.ffill('time')\n",
    "ds_79['profile_num']=ds_79.profile_num.ffill('time')\n",
    "ds_02['profile_num']=ds_02.profile_num.ffill('time')"
   ]
  },
  {
   "cell_type": "markdown",
   "id": "fc34cfd1-1f2c-45b5-be66-c7652ee2e64e",
   "metadata": {},
   "source": [
    "## MLD and mode water calculation and masking"
   ]
  },
  {
   "cell_type": "code",
   "execution_count": 7,
   "id": "12426cb1-07d1-4b45-a97a-79c8d9e3c6af",
   "metadata": {
    "tags": []
   },
   "outputs": [],
   "source": [
    "def mld_ds(df):\n",
    "    mld_=gt.physics.mixed_layer_depth(df.profile_num.values, df.pressure.values, df.potential_density.values, thresh=0.125, ref_depth=2, return_as_mask=False)\n",
    "    # ds['mld']=('profile_num', mld_.to_numpy())\n",
    "\n",
    "    df=df.set_coords('profile_num')\n",
    "    df['mld']=('profile_num', mld_)\n",
    "    df['mld']=df['mld'].interpolate_na('profile_num')\n",
    "    \n",
    "    # ds['mld+25']=('profile_num', mld_+25)\n",
    "    df['mixed_layer_depth']=('time', interp(np.unique(df.profile_num.values), \n",
    "                                            pd.DataFrame(df.mld.values).rolling(5, center=True).mean()[0].to_numpy(), df.profile_num.values))\n",
    "\n",
    "    msk_mld= (df.pressure.values > (df['mixed_layer_depth'].values+25)).astype(float)\n",
    "    msk_mld[msk_mld==0]=np.nan\n",
    "    df['mld_mask']=('time',msk_mld)\n",
    "    return df\n",
    "\n",
    "\n",
    "ds=mld_ds(ds)\n",
    "ds_02=mld_ds(ds_02)\n",
    "ds_10=mld_ds(ds_10)\n",
    "ds_79=mld_ds(ds_79)\n",
    "\n",
    "ds_10.mld[68:220]=np.nan\n",
    "ds_10['mld']=ds_10['mld'].interpolate_na('profile_num')\n",
    "ds_10['mixed_layer_depth']=('time', interp(np.unique(ds_10.profile_num.values), \n",
    "                                            pd.DataFrame(ds_10.mld.values).rolling(5, center=True).mean()[0].to_numpy(), ds_10.profile_num.values))\n",
    "\n",
    "msk_mld= (ds_10.pressure.values > (ds_10['mixed_layer_depth'].values+25)).astype(float)\n",
    "msk_mld[msk_mld==0]=np.nan\n",
    "ds_10['mld_mask']=('time',msk_mld)"
   ]
  },
  {
   "cell_type": "code",
   "execution_count": 8,
   "id": "11cc46cc",
   "metadata": {
    "tags": []
   },
   "outputs": [],
   "source": [
    "msk_wwl= (1500 < ds.profile_num) & (ds.profile_num.values <2000) & (ds.potential_density > 25.3)\n",
    "msk_wwl[ds.profile_num<1500]=True\n",
    "msk_wwl[ds.profile_num>2000]=True\n",
    "msk_wwl=msk_wwl.values.astype(float)\n",
    "msk_wwl[msk_wwl==0]=np.nan\n",
    "ds['wwl_mask']=('time',msk_wwl)\n",
    "\n",
    "msk_wwl= (ds_02.potential_density > 25.3)\n",
    "msk_wwl=msk_wwl.values.astype(float)\n",
    "msk_wwl[msk_wwl==0]=np.nan\n",
    "ds_02['wwl_mask']=('time',msk_wwl)\n",
    "\n",
    "msk_wwl= (ds_10.potential_density > 25.3)\n",
    "msk_wwl=msk_wwl.values.astype(float)\n",
    "msk_wwl[msk_wwl==0]=np.nan\n",
    "ds_10['wwl_mask']=('time',msk_wwl)\n",
    "\n",
    "msk_wwl= (ds_79.potential_density > 25.3)\n",
    "msk_wwl=msk_wwl.values.astype(float)\n",
    "msk_wwl[msk_wwl==0]=np.nan\n",
    "ds_79['wwl_mask']=('time',msk_wwl)"
   ]
  },
  {
   "cell_type": "markdown",
   "id": "43d000c9",
   "metadata": {},
   "source": [
    "## Transect numbers"
   ]
  },
  {
   "cell_type": "code",
   "execution_count": 9,
   "id": "ec595da4-e212-4308-8a44-bcadcc8811ac",
   "metadata": {
    "tags": []
   },
   "outputs": [
    {
     "data": {
      "application/vnd.jupyter.widget-view+json": {
       "model_id": "56ef648629dc49d48ed9957053b12bc5",
       "version_major": 2,
       "version_minor": 0
      },
      "text/plain": [
       "  0%|          | 0/26 [00:00<?, ?it/s]"
      ]
     },
     "metadata": {},
     "output_type": "display_data"
    },
    {
     "data": {
      "application/vnd.jupyter.widget-view+json": {
       "model_id": "d2b53c35db104ef5be6846c035e011a3",
       "version_major": 2,
       "version_minor": 0
      },
      "text/plain": [
       "  0%|          | 0/25 [00:00<?, ?it/s]"
      ]
     },
     "metadata": {},
     "output_type": "display_data"
    },
    {
     "data": {
      "application/vnd.jupyter.widget-view+json": {
       "model_id": "14c3f6b2a4d34f2682b7ac32a08405fa",
       "version_major": 2,
       "version_minor": 0
      },
      "text/plain": [
       "  0%|          | 0/7 [00:00<?, ?it/s]"
      ]
     },
     "metadata": {},
     "output_type": "display_data"
    }
   ],
   "source": [
    "arr_10=[0, 294,  367,  419,  497,  547,  595  ,630, 655,  722, \n",
    "          798,  848,  890,  932,  978,\n",
    "       1027, 1075, 1117, 1178,  1241,1293, 1356,\n",
    "        1404, 1457, 1500, 1548]\n",
    "\n",
    "arr_79=[   0,       75,   155,   235,  298,  364,  413, 460,  \n",
    "        516,   560,  633,  668,  741,  780,    838,  882,  928, \n",
    "        975,  1020, 1056, 1125,  1174, 1227, 1260, \n",
    "        1308]\n",
    "\n",
    "arr_02=[  0, 33, 90, 157, 215, 258, 372]\n",
    "arr_2022=[   0,   39,  109,  149,  157,  358,  375,  436,  493,  502,  543,\n",
    "         581,  613,  663,  709,  751,  795,  841,  861,  895,  929,  981,\n",
    "        1017, 1091, 1131, 1206, 1215, 1233, 1277, 1315, 1367, 1387, 1433,\n",
    "        1485, 1581, 1633, 1649, 1665, 1707, 1747, 1821, 1877, 1901, 2036,\n",
    "        2093, 2133, 2175, 2247, 2297, 2339, 2383, 2417, 2443, 2483, 2529,\n",
    "        2573, 2703, 2747, 2809, 2861, 2903, 2953, 3025, 3115, 3167, 3233,\n",
    "        3289, 3337, 3380, 3429]\n",
    "\n",
    "up_down_10=[0,1,0,1,0,1,0,1,0,1,0,1,0,1,0,1,0,1,0,1,0,1,0,1,0,1]\n",
    "up_down_79=[0,2,1,0,1,0,1,0,1,0,1,0,1,0,1,0,1,0,1,0,1,0,1,0,1]\n",
    "up_down_02=[2,0, 1,0,1,0,1]\n",
    "up_down_2022=[0,1,0,1,2,0,1,0,1,0,1,0,1,0,1,0,1,0,1,0,1,0,1,0,1,0,1,0,1,0,1,0,1,0,1,0,1,0,1,0,1,0,2, 0, 1, 0,1,0,1,0,1,0, 2, 1, 0,1,0,1,0,1,0,1, 0,1,0,1,0,1,0,1]\n",
    "\n",
    "def trans_num(transectNum, ds, up_down):\n",
    "    arr2=np.array([])\n",
    "    arr2ud=np.array([])\n",
    "\n",
    "    NumT=np.arange(1,len(transectNum)+1, 1)\n",
    "    for m in tqdm(range(len(transectNum))):\n",
    "        if m<(len(up_down)-1):\n",
    "            arr=np.ones(len(ds.profile_num[(ds.profile_num>=transectNum[m]) & (ds.profile_num<transectNum[m+1])]))*NumT[m]\n",
    "            arr2=np.concatenate([arr2, arr])\n",
    "            arrud=np.ones(len(ds.profile_num[(ds.profile_num>=transectNum[m]) & (ds.profile_num<transectNum[m+1])]))*up_down[m]\n",
    "            arr2ud=np.concatenate([arr2ud, arrud])\n",
    "        else:\n",
    "            arr=np.ones(len(ds.profile_num[(ds.profile_num>=transectNum[m])]))*NumT[m]\n",
    "            arr2=np.concatenate([arr2, arr])\n",
    "            arrud=np.ones(len(ds.profile_num[(ds.profile_num>=transectNum[m])]))*up_down[m]\n",
    "            arr2ud=np.concatenate([arr2ud, arrud])\n",
    "            \n",
    "    ds[\"transect_num\"]=('time',  arr2)\n",
    "    ds[\"transect_horientation\"]=('time',  arr2ud)  ## 0 up, 1 down, 2 VM\n",
    "    return ds\n",
    "\n",
    "ds_10=trans_num(arr_10, ds_10, up_down_10)\n",
    "ds_79=trans_num(arr_79, ds_79, up_down_79)\n",
    "ds_02=trans_num(arr_02, ds_02, up_down_02)"
   ]
  },
  {
   "cell_type": "markdown",
   "id": "7de9a8de-72ac-4df9-8efb-29d26398221a",
   "metadata": {},
   "source": [
    "## Water mass fraction"
   ]
  },
  {
   "cell_type": "code",
   "execution_count": 10,
   "id": "98c9cbc8-9c04-4ad1-9906-0b287bf3cd7e",
   "metadata": {
    "tags": []
   },
   "outputs": [],
   "source": [
    "def watermass_fraction(theta, sa):\n",
    "    ASW_sa, ASW_theta=gsw.SA_from_SP(34.7, 0, 58,24),  gsw.CT_from_t(gsw.SA_from_SP(34.7, 0, 58,24), 1,0)#35, 2.9\n",
    "    PGW_sa, PGW_theta= gsw.SA_from_SP( 40.85, 0, 58,24),  gsw.CT_from_t(gsw.SA_from_SP( 40.85, 0, 58,24), 29.8,0)\n",
    "    mW_sa, mW_theta= gsw.SA_from_SP(36.2, 0, 58,24),  gsw.CT_from_t(gsw.SA_from_SP(36.2, 0, 58,24), 23.5 ,0) #35.57, 15.8 #36, 25.5       #36, 24\n",
    "\n",
    "    term1=theta-mW_theta-((sa-mW_sa)*(ASW_theta-mW_theta)/(ASW_sa-mW_sa))\n",
    "    term2=PGW_theta-mW_theta-((PGW_sa-mW_sa)*(ASW_theta-mW_theta)/(ASW_sa-mW_sa))\n",
    "    fract=term1/term2\n",
    "    return fract\n",
    "\n",
    "ds['pgw_frac']=('time', watermass_fraction(ds.cons_temp.values, ds.abs_salinity.values))\n",
    "ds_79['pgw_frac']=('time', watermass_fraction(ds_79.cons_temp.values, ds_79.abs_salinity.values))\n",
    "ds_10['pgw_frac']=('time', watermass_fraction(ds_10.cons_temp.values, ds_10.abs_salinity.values))\n",
    "ds_02['pgw_frac']=('time', watermass_fraction(ds_02.cons_temp.values, ds_02.abs_salinity.values))"
   ]
  },
  {
   "cell_type": "code",
   "execution_count": 11,
   "id": "0f2da089",
   "metadata": {
    "tags": []
   },
   "outputs": [],
   "source": [
    "def watermass_fraction_icw(theta, sa):\n",
    "    ASW_sa, ASW_theta=gsw.SA_from_SP(34.7, 0, 58,24),  gsw.CT_from_t(gsw.SA_from_SP(34.7, 0, 58,24), 1,0)#35, 2.9\n",
    "    PGW_sa, PGW_theta= gsw.SA_from_SP( 40.85, 0, 58,24),  gsw.CT_from_t(gsw.SA_from_SP( 40.85, 0, 58,24), 29.8,0)\n",
    "    mW_sa, mW_theta= gsw.SA_from_SP(36.2, 0, 58,24),  gsw.CT_from_t(gsw.SA_from_SP(36.2, 0, 58,24), 23.5 ,0) #35.57, 15.8 #36, 25.5       #36, 24\n",
    "    term1=theta-ASW_theta-((sa-ASW_sa)*(PGW_theta-ASW_theta)/(PGW_sa-ASW_sa))\n",
    "    term2=mW_theta-ASW_theta-((mW_sa-ASW_sa)*(PGW_theta-ASW_theta)/(PGW_sa-ASW_sa))\n",
    "    fract=term1/term2\n",
    "    return fract\n",
    "\n",
    "ds['icw_frac']=('time', watermass_fraction_icw(ds.cons_temp.values, ds.abs_salinity.values))\n",
    "ds_79['icw_frac']=('time', watermass_fraction_icw(ds_79.cons_temp.values, ds_79.abs_salinity.values))\n",
    "ds_10['icw_frac']=('time', watermass_fraction_icw(ds_10.cons_temp.values, ds_10.abs_salinity.values))\n",
    "ds_02['icw_frac']=('time', watermass_fraction_icw(ds_02.cons_temp.values, ds_02.abs_salinity.values))"
   ]
  },
  {
   "cell_type": "code",
   "execution_count": 12,
   "id": "85463331",
   "metadata": {
    "tags": []
   },
   "outputs": [],
   "source": [
    "def watermass_fraction_dasw(theta, sa):\n",
    "    ASW_sa, ASW_theta=gsw.SA_from_SP(34.7, 0, 58,24),  gsw.CT_from_t(gsw.SA_from_SP(34.7, 0, 58,24), 1,0)#35, 2.9\n",
    "    PGW_sa, PGW_theta= gsw.SA_from_SP( 40.85, 0, 58,24),  gsw.CT_from_t(gsw.SA_from_SP( 40.85, 0, 58,24), 29.8,0)\n",
    "    mW_sa, mW_theta= gsw.SA_from_SP(36.2, 0, 58,24),  gsw.CT_from_t(gsw.SA_from_SP(36.2, 0, 58,24), 23.5 ,0) #35.57, 15.8 #36, 25.5       #36, 24\n",
    "\n",
    "    \n",
    "    term1=theta-PGW_theta-((sa-PGW_sa)*(mW_theta-PGW_theta)/(mW_sa-PGW_sa))\n",
    "    term2=ASW_theta-PGW_theta-((ASW_sa-PGW_sa)*(mW_theta-PGW_theta)/(mW_sa-PGW_sa))\n",
    "    fract=term1/term2\n",
    "    return fract\n",
    "ds['asw_frac']=('time', watermass_fraction_dasw(ds.cons_temp.values, ds.abs_salinity.values))\n",
    "ds_79['asw_frac']=('time', watermass_fraction_dasw(ds_79.cons_temp.values, ds_79.abs_salinity.values))\n",
    "ds_10['asw_frac']=('time', watermass_fraction_dasw(ds_10.cons_temp.values, ds_10.abs_salinity.values))\n",
    "ds_02['asw_frac']=('time', watermass_fraction_dasw(ds_02.cons_temp.values, ds_02.abs_salinity.values))\n",
    "\n",
    "\n",
    "for dff in [ds, ds_79, ds_10, ds_02]:\n",
    "    dff.pgw_frac[dff.asw_frac<0]=np.nan\n",
    "    dff.pgw_frac[dff.asw_frac>1]=np.nan\n",
    "    dff.pgw_frac[dff.icw_frac<0]=np.nan\n",
    "    dff.pgw_frac[dff.icw_frac>1]=np.nan\n",
    "    dff.pgw_frac[dff.pgw_frac>1]=np.nan\n",
    "    dff.pgw_frac[dff.pgw_frac>1]=np.nan"
   ]
  },
  {
   "cell_type": "markdown",
   "id": "9775777f-cc86-4a0f-9743-d27d1dc9c36e",
   "metadata": {},
   "source": [
    "## Detide adcp data"
   ]
  },
  {
   "cell_type": "code",
   "execution_count": 13,
   "id": "52e7fe50-585b-47ed-b97b-126b1f0bcd5e",
   "metadata": {
    "tags": []
   },
   "outputs": [],
   "source": [
    "ds_tides=xr.open_dataset('/home/jupyter-estelfont/PGW_paper/tidal_consituent/tides_202122.nc')\n",
    "\n",
    "yaxis=np.arange(0,1000,1)\n",
    "xaxis=np.unique(ds.profile_num)\n",
    "\n",
    "V_refE,_,_=sx.grid2d(dadcp.profile_num, dadcp.pressure, dadcp.V_refE, xi=xaxis, yi=yaxis)\n",
    "V_refN,_,_=sx.grid2d(dadcp.profile_num, dadcp.pressure, dadcp.V_refN, xi=xaxis, yi=yaxis)\n",
    "\n",
    "dadcp['V_refE_detided']=('time', (V_refE-ds_tides.E_tide.values).T.flatten())\n",
    "dadcp['V_refN_detided']=('time', (V_refN-ds_tides.N_tide.values).T.flatten())\n",
    "dadcp['V_along_detided']=dadcp['V_refE_detided']*np.cos(np.deg2rad(25))-dadcp['V_refN_detided']*np.sin(np.deg2rad(25))\n",
    "dadcp['V_across_detided']=dadcp['V_refN_detided']*np.cos(np.deg2rad(25))+dadcp['V_refE_detided']*np.sin(np.deg2rad(25))"
   ]
  },
  {
   "cell_type": "markdown",
   "id": "f1994120",
   "metadata": {},
   "source": [
    "### save datasets!"
   ]
  },
  {
   "cell_type": "code",
   "execution_count": 21,
   "id": "f80a3e06",
   "metadata": {
    "tags": []
   },
   "outputs": [],
   "source": [
    "ds_79.to_netcdf('/home/jupyter-estelfont/datasets/oman_201516/final/SG579.nc')\n",
    "ds_02.to_netcdf('/home/jupyter-estelfont/datasets/oman_201516/final/SG502.nc')\n",
    "ds_10.to_netcdf('/home/jupyter-estelfont/datasets/oman_201516/final/SG510.nc')\n",
    "\n",
    "ds.to_netcdf('/home/jupyter-estelfont/datasets/oman_202122/final/SEA057.nc')\n",
    "dadcp.to_netcdf('/home/jupyter-estelfont/datasets/oman_202122/final/SEA057_adcp.nc')"
   ]
  },
  {
   "cell_type": "markdown",
   "id": "f219175e",
   "metadata": {},
   "source": [
    "# Grid dataset per transects"
   ]
  },
  {
   "cell_type": "code",
   "execution_count": 16,
   "id": "73ef90c2-df6a-4745-9cc7-9b13fbd08e6f",
   "metadata": {
    "tags": []
   },
   "outputs": [],
   "source": [
    "ds_79=xr.open_dataset('/home/jupyter-estelfont/datasets/oman_201516/final/SG579.nc')\n",
    "ds_02=xr.open_dataset('/home/jupyter-estelfont/datasets/oman_201516/final/SG502.nc')\n",
    "ds_10=xr.open_dataset('/home/jupyter-estelfont/datasets/oman_201516/final/SG510.nc')\n",
    "ds=xr.open_dataset('/home/jupyter-estelfont/datasets/oman_202122/final/SEA057.nc')\n",
    "dadcp=xr.open_dataset('/home/jupyter-estelfont/datasets/oman_202122/final/SEA057_adcp.nc')"
   ]
  },
  {
   "cell_type": "markdown",
   "id": "2f84de96-bff7-49da-846e-83591f185d3c",
   "metadata": {},
   "source": [
    "## Grid in pressure"
   ]
  },
  {
   "cell_type": "code",
   "execution_count": 26,
   "id": "ddc62b95",
   "metadata": {
    "tags": []
   },
   "outputs": [],
   "source": [
    "# gridding functions\n",
    "\n",
    "daxis=np.arange(-10,80,1)\n",
    "yaxis=np.arange(0,1000,2)\n",
    "def sect_(data,  var, yaxis_, N):\n",
    "    var_g, x, y=  sx.grid2d(\n",
    "        data.distance[data.transect_num==N].values,\n",
    "        data.pressure[data.transect_num==N].values, \n",
    "        data[var][data.transect_num==N].values, \n",
    "        xi=daxis, yi=yaxis, fn='mean')\n",
    "    return  var_g\n",
    "\n",
    "\n",
    "def sect_msk(data,  var, yaxis_, N):\n",
    "    var_g, x, y=  sx.grid2d(\n",
    "        data.distance[data.transect_num==N].values,\n",
    "        data.pressure[data.transect_num==N].values, \n",
    "        (data[var]*data['mld_mask']*data['wwl_mask'])[data.transect_num==N].values,   #*data['wwl_mask']\n",
    "        xi=daxis, yi=yaxis, fn='mean')\n",
    "    return  var_g\n",
    "\n",
    "def rol_(lol):\n",
    "    lol=pd.DataFrame(lol).interpolate(axis=0, limit=5, limit_direction='both', limit_area='inside').interpolate(axis=1, limit=4, limit_direction='both', limit_area='inside').rolling(3, axis=1, center=True).mean().to_numpy()\n",
    "    return lol\n",
    "\n",
    "# variables to grid\n",
    "variables_to_be_gridded=['abs_salinity', 'cons_temp', 'oxygen_concentration', 'pgw_frac', 'potential_density']"
   ]
  },
  {
   "cell_type": "markdown",
   "id": "3aa7d67f-1cb9-41d0-a950-12190e9db78b",
   "metadata": {
    "tags": []
   },
   "source": [
    "### SG502, 510, 579"
   ]
  },
  {
   "cell_type": "code",
   "execution_count": 30,
   "id": "6d920227",
   "metadata": {
    "tags": []
   },
   "outputs": [
    {
     "data": {
      "application/vnd.jupyter.widget-view+json": {
       "model_id": "791fe1b2e88644f3ab68b795582d92b3",
       "version_major": 2,
       "version_minor": 0
      },
      "text/plain": [
       "  0%|          | 0/26 [00:00<?, ?it/s]"
      ]
     },
     "metadata": {},
     "output_type": "display_data"
    },
    {
     "data": {
      "application/vnd.jupyter.widget-view+json": {
       "model_id": "113203d6046640ee993dc664812f7b40",
       "version_major": 2,
       "version_minor": 0
      },
      "text/plain": [
       "  0%|          | 0/26 [00:00<?, ?it/s]"
      ]
     },
     "metadata": {},
     "output_type": "display_data"
    },
    {
     "data": {
      "application/vnd.jupyter.widget-view+json": {
       "model_id": "6690a1b62afb48e5b6882479395bd087",
       "version_major": 2,
       "version_minor": 0
      },
      "text/plain": [
       "  0%|          | 0/26 [00:00<?, ?it/s]"
      ]
     },
     "metadata": {},
     "output_type": "display_data"
    },
    {
     "data": {
      "application/vnd.jupyter.widget-view+json": {
       "model_id": "13f1d92fc87140a988c57979a3d08dfe",
       "version_major": 2,
       "version_minor": 0
      },
      "text/plain": [
       "  0%|          | 0/26 [00:00<?, ?it/s]"
      ]
     },
     "metadata": {},
     "output_type": "display_data"
    },
    {
     "data": {
      "application/vnd.jupyter.widget-view+json": {
       "model_id": "42225a785ae945948cd12bc5a832c569",
       "version_major": 2,
       "version_minor": 0
      },
      "text/plain": [
       "  0%|          | 0/26 [00:00<?, ?it/s]"
      ]
     },
     "metadata": {},
     "output_type": "display_data"
    }
   ],
   "source": [
    "ds_sections_02 = xr.Dataset(\n",
    "    coords=dict(\n",
    "        trans_num=([\"trans_num\"], np.unique(ds_02.transect_num)),\n",
    "        y=([\"y\"], yaxis),\n",
    "        x=([\"x\"], daxis),      \n",
    "    ),\n",
    "    attrs={},\n",
    ")\n",
    "\n",
    "for i in variables_to_be_gridded:\n",
    "    PGW_sects=[rol_(sect_(ds_02, i, yaxis, N)) for N in tqdm(np.unique(ds_02.transect_num))]\n",
    "    ds_sections_02[i]=(('trans_num',  'y', 'x' ), np.array(PGW_sects))\n",
    "    \n",
    "#####\n",
    "ds_sections_10 = xr.Dataset(\n",
    "    coords=dict(\n",
    "        trans_num=([\"trans_num\"], np.unique(ds_10.transect_num)),\n",
    "        y=([\"y\"], yaxis),\n",
    "        x=([\"x\"], daxis),      \n",
    "    ),\n",
    "    attrs={},\n",
    ")\n",
    "\n",
    "for i in variables_to_be_gridded:\n",
    "    PGW_sects=[rol_(sect_(ds_10, i, yaxis, N)) for N in tqdm(np.unique(ds_10.transect_num))]\n",
    "    ds_sections_10[i]=(('trans_num',  'y', 'x' ), np.array(PGW_sects))\n",
    "    \n",
    "##### \n",
    "ds_sections_79 = xr.Dataset(\n",
    "    coords=dict(\n",
    "        trans_num=([\"trans_num\"], np.unique(ds_79.transect_num)),\n",
    "        y=([\"y\"], yaxis),\n",
    "        x=([\"x\"], daxis),      \n",
    "    ),\n",
    "    attrs={},\n",
    ")\n",
    "\n",
    "for i in variables_to_be_gridded:\n",
    "    PGW_sects=[rol_(sect_(ds_79, i, yaxis, N)) for N in tqdm(np.unique(ds_79.transect_num))]\n",
    "    ds_sections_79[i]=(('trans_num',  'y', 'x' ), np.array(PGW_sects))\n",
    "    \n",
    "\n",
    "## Geostrophic velocities    \n",
    "ds_t= xr.open_dataset('/home/jupyter-estelfont/common/fridge/2015_16_OMAN/transects.nc')\n",
    "ds_t['y']=np.arange(0,1004,4)\n",
    "\n",
    "sg_79_=np.array([ 0,  2,  3,  4,  5,  6,  7,  8,  9, 10, 11, 12, 13, 14, 15, 16, 17, 18, 19, 20, 21, 22, 23, 24, 25])\n",
    "Geo_velo=[-ds_t.geostrophy[i].interp(x=daxis, y=yaxis).values.T for i in sg_79_]\n",
    "ds_sections_79['geostrophy']=(('trans_num',  'y', 'x' ), np.array(Geo_velo))\n",
    "\n",
    "sg_02_=np.array([28, 29, 30, 31, 32, 33, 34])\n",
    "Geo_velo=[-ds_t.geostrophy[i].interp(x=daxis, y=yaxis).values.T for i in sg_02_]\n",
    "ds_sections_02['geostrophy']=(('trans_num',  'y', 'x' ), np.array(Geo_velo))\n",
    "\n",
    "sg_10_=np.array([60, 61, 62, 63, 64, 65, 66, 67, 68, 69, 70, 71, 72, 73, 74, 75, 76, 77, 78, 79, 80, 81, 82, 83, 84, 85])\n",
    "Geo_velo=[-ds_t.geostrophy[i].interp(x=daxis, y=yaxis).values.T for i in sg_10_]\n",
    "ds_sections_10['geostrophy']=(('trans_num',  'y', 'x' ), np.array(Geo_velo))"
   ]
  },
  {
   "cell_type": "markdown",
   "id": "f6883a26-4e89-4b36-9043-7cb8be9b0175",
   "metadata": {},
   "source": [
    "### SEA057"
   ]
  },
  {
   "cell_type": "code",
   "execution_count": 32,
   "id": "31c1ff05",
   "metadata": {
    "tags": []
   },
   "outputs": [
    {
     "data": {
      "application/vnd.jupyter.widget-view+json": {
       "model_id": "b95e2bc6a9fa40c8bdff515ba6b0d79f",
       "version_major": 2,
       "version_minor": 0
      },
      "text/plain": [
       "  0%|          | 0/70 [00:00<?, ?it/s]"
      ]
     },
     "metadata": {},
     "output_type": "display_data"
    },
    {
     "data": {
      "application/vnd.jupyter.widget-view+json": {
       "model_id": "96df619d7085473fae87e0246c36273e",
       "version_major": 2,
       "version_minor": 0
      },
      "text/plain": [
       "  0%|          | 0/70 [00:00<?, ?it/s]"
      ]
     },
     "metadata": {},
     "output_type": "display_data"
    },
    {
     "data": {
      "application/vnd.jupyter.widget-view+json": {
       "model_id": "825ae76b65be435e966c37598883f701",
       "version_major": 2,
       "version_minor": 0
      },
      "text/plain": [
       "  0%|          | 0/70 [00:00<?, ?it/s]"
      ]
     },
     "metadata": {},
     "output_type": "display_data"
    },
    {
     "data": {
      "application/vnd.jupyter.widget-view+json": {
       "model_id": "969985c1992b471ca29201eda700ea07",
       "version_major": 2,
       "version_minor": 0
      },
      "text/plain": [
       "  0%|          | 0/70 [00:00<?, ?it/s]"
      ]
     },
     "metadata": {},
     "output_type": "display_data"
    },
    {
     "data": {
      "application/vnd.jupyter.widget-view+json": {
       "model_id": "ccb2e39e1ae24b5aa43cd2e55bba8f27",
       "version_major": 2,
       "version_minor": 0
      },
      "text/plain": [
       "  0%|          | 0/70 [00:00<?, ?it/s]"
      ]
     },
     "metadata": {},
     "output_type": "display_data"
    }
   ],
   "source": [
    "ds_sections_57 = xr.Dataset(\n",
    "    coords=dict(\n",
    "        trans_num=([\"trans_num\"], np.unique(ds.transect_num)),\n",
    "        y=([\"y\"], yaxis),\n",
    "        x=([\"x\"], daxis),      \n",
    "    ),\n",
    "    attrs={},\n",
    ")\n",
    "\n",
    "for i in variables_to_be_gridded:\n",
    "    PGW_sects=[rol_(sect_(ds, i, yaxis, N)) for N in tqdm(np.unique(ds.transect_num))]\n",
    "    ds_sections_57[i]=(('trans_num',  'y', 'x' ), np.array(PGW_sects))\n",
    "    \n",
    "for i in ['V_along_detided', 'V_across_detided']:\n",
    "    PGW_sects=[rol_(sect_(dadcp, i, yaxis, N)) for N in tqdm(np.unique(dadcp.transect_num))]\n",
    "    ds_sections_57[i]=(('trans_num',  'y', 'x' ), np.array(PGW_sects))"
   ]
  },
  {
   "cell_type": "markdown",
   "id": "0ebc8c7a-a11a-44f9-a30b-64bc84e059da",
   "metadata": {},
   "source": [
    "### Average timestamp per transect"
   ]
  },
  {
   "cell_type": "code",
   "execution_count": 33,
   "id": "f7ecd4e4-04f1-4e3d-8953-d9f95dc67990",
   "metadata": {
    "tags": []
   },
   "outputs": [],
   "source": [
    "def trans_taxis(fr):\n",
    "    transmean, tra_n, _=sx.grid2d(fr.transect_num.values, fr.pressure.values, fr.time.values, xi=np.arange(0.5,np.nanmax(fr.transect_num.values)+1.5,1), yi=1000, fn='mean')\n",
    "    taxis_transect_mean=pd.to_datetime(transmean[0])[:-1]\n",
    "    return taxis_transect_mean\n",
    "\n",
    "taxis_trans_02=trans_taxis(ds_02)\n",
    "taxis_trans_79=trans_taxis(ds_79)\n",
    "taxis_trans_10=trans_taxis(ds_10)\n",
    "taxis_trans_57=trans_taxis(ds)\n",
    "\n",
    "ds_sections_02['time']=(('trans_num'), taxis_trans_02)\n",
    "ds_sections_79['time']=(('trans_num'), taxis_trans_79)\n",
    "ds_sections_10['time']=(('trans_num'), taxis_trans_10)\n",
    "ds_sections_57['time']=(('trans_num'), taxis_trans_57)\n",
    "\n",
    "## add a time grid for sea057 -- timestamp per gridded profile\n",
    "PGW_sects=[rol_(sect_(ds, 'time', yaxis, N)) for N in tqdm(np.unique(ds.transect_num))]\n",
    "ds_sections_57['time_grid']=(('trans_num',  'y', 'x' ), np.array(PGW_sects))"
   ]
  },
  {
   "cell_type": "markdown",
   "id": "187b8c7a-9230-494b-a886-1318519ffb48",
   "metadata": {
    "tags": []
   },
   "source": [
    "##### Save gridded datasets!"
   ]
  },
  {
   "cell_type": "code",
   "execution_count": 41,
   "id": "528f82a6",
   "metadata": {
    "tags": []
   },
   "outputs": [],
   "source": [
    "ds_sections_02.to_netcdf('/home/jupyter-estelfont/datasets/oman_201516/final/gridded_SG502.nc')\n",
    "ds_sections_79.to_netcdf('/home/jupyter-estelfont/datasets/oman_201516/final/gridded_SG579.nc')\n",
    "ds_sections_10.to_netcdf('/home/jupyter-estelfont/datasets/oman_201516/final/gridded_SG510.nc')\n",
    "ds_sections_57.to_netcdf('/home/jupyter-estelfont/datasets/oman_202122/final/gridded_SEA057_1.nc')"
   ]
  },
  {
   "cell_type": "markdown",
   "id": "153484d0-6642-47aa-bc97-fdf48d84b8d2",
   "metadata": {
    "tags": []
   },
   "source": [
    "## Grid in potential density"
   ]
  },
  {
   "cell_type": "code",
   "execution_count": 43,
   "id": "aff333da-2f91-4de5-bd43-dbbd76a6ae8b",
   "metadata": {
    "tags": []
   },
   "outputs": [],
   "source": [
    "sigmaaxis=np.arange(20,28,0.005)\n",
    "\n",
    "def sect_sigma(data,  var, yaxis_, N):\n",
    "    var_g, x, y=  sx.grid2d(\n",
    "        data.distance[data.transect_num==N].values,\n",
    "        data.potential_density[data.transect_num==N].values, \n",
    "        data[var][data.transect_num==N].values, \n",
    "        xi=np.arange(-10,80,1), yi=sigmaaxis, fn='mean')\n",
    "    return  var_g\n",
    "\n",
    "def sect_sigma_msk(data,  var, yaxis_, N):\n",
    "    var_g, x, y=  sx.grid2d(\n",
    "        data.distance[data.transect_num==N].values,\n",
    "        data.potential_density[data.transect_num==N].values, \n",
    "        (data[var]*data['mld_mask']*data['wwl_mask'])[data.transect_num==N].values, \n",
    "        xi=np.arange(-10,80,1), yi=sigmaaxis, fn='mean')\n",
    "    return  var_g"
   ]
  },
  {
   "cell_type": "markdown",
   "id": "45fb8035-37a1-43fa-b4ea-6f1227fc2661",
   "metadata": {},
   "source": [
    "### SG502, 510, 579"
   ]
  },
  {
   "cell_type": "code",
   "execution_count": 44,
   "id": "0ef34797",
   "metadata": {
    "tags": []
   },
   "outputs": [
    {
     "data": {
      "application/vnd.jupyter.widget-view+json": {
       "model_id": "3ca4e55b33ad41d3bb85f75013f85eb4",
       "version_major": 2,
       "version_minor": 0
      },
      "text/plain": [
       "  0%|          | 0/7 [00:00<?, ?it/s]"
      ]
     },
     "metadata": {},
     "output_type": "display_data"
    },
    {
     "data": {
      "application/vnd.jupyter.widget-view+json": {
       "model_id": "e1122afe347948c792223363350a1e18",
       "version_major": 2,
       "version_minor": 0
      },
      "text/plain": [
       "  0%|          | 0/7 [00:00<?, ?it/s]"
      ]
     },
     "metadata": {},
     "output_type": "display_data"
    },
    {
     "data": {
      "application/vnd.jupyter.widget-view+json": {
       "model_id": "afc8d88c9a324c48902f4dd65edcec42",
       "version_major": 2,
       "version_minor": 0
      },
      "text/plain": [
       "  0%|          | 0/7 [00:00<?, ?it/s]"
      ]
     },
     "metadata": {},
     "output_type": "display_data"
    },
    {
     "data": {
      "application/vnd.jupyter.widget-view+json": {
       "model_id": "fdb80e75182c4eb8b877efc6bbec3834",
       "version_major": 2,
       "version_minor": 0
      },
      "text/plain": [
       "  0%|          | 0/7 [00:00<?, ?it/s]"
      ]
     },
     "metadata": {},
     "output_type": "display_data"
    },
    {
     "data": {
      "application/vnd.jupyter.widget-view+json": {
       "model_id": "8a6b7027a72549a5ab613f0934f35251",
       "version_major": 2,
       "version_minor": 0
      },
      "text/plain": [
       "  0%|          | 0/7 [00:00<?, ?it/s]"
      ]
     },
     "metadata": {},
     "output_type": "display_data"
    }
   ],
   "source": [
    "ds_sections_02_SIGMA = xr.Dataset(\n",
    "    coords=dict(\n",
    "        trans_num=([\"trans_num\"], np.unique(ds_02.transect_num)),\n",
    "        y=([\"y\"], sigmaaxis),\n",
    "        x=([\"x\"], daxis),      \n",
    "    ),\n",
    "    attrs={},\n",
    ")\n",
    "\n",
    "for i in variables_to_be_gridded:\n",
    "    PGW_sects=[rol_(sect_sigma(ds_02, i, sigmaaxis, N)) for N in tqdm(np.unique(ds_02.transect_num))]\n",
    "    ds_sections_02_SIGMA[i]=(('trans_num',  'y', 'x' ), np.array(PGW_sects))\n",
    "    \n",
    "ds_sections_79_SIGMA = xr.Dataset(\n",
    "    coords=dict(\n",
    "        trans_num=([\"trans_num\"], np.unique(ds_79.transect_num)),\n",
    "        y=([\"y\"], sigmaaxis),\n",
    "        x=([\"x\"], daxis),      \n",
    "    ),\n",
    "    attrs={},\n",
    ")\n",
    "\n",
    "for i in variables_to_be_gridded:\n",
    "    PGW_sects=[rol_(sect_sigma(ds_79, i, sigmaaxis, N)) for N in tqdm(np.unique(ds_79.transect_num))]\n",
    "    ds_sections_79_SIGMA[i]=(('trans_num',  'y', 'x' ), np.array(PGW_sects))\n",
    "    \n",
    "ds_sections_10_SIGMA = xr.Dataset(\n",
    "    coords=dict(\n",
    "        trans_num=([\"trans_num\"], np.unique(ds_10.transect_num)),\n",
    "        y=([\"y\"], sigmaaxis),\n",
    "        x=([\"x\"], daxis),      \n",
    "    ),\n",
    "    attrs={},\n",
    ")\n",
    "\n",
    "for i in variables_to_be_gridded:\n",
    "    PGW_sects=[rol_(sect_sigma(ds_10, i, sigmaaxis, N)) for N in tqdm(np.unique(ds_10.transect_num))]\n",
    "    ds_sections_10_SIGMA[i]=(('trans_num',  'y', 'x' ), np.array(PGW_sects))"
   ]
  },
  {
   "cell_type": "markdown",
   "id": "7024e625-debb-4f57-bf34-215b039daff7",
   "metadata": {},
   "source": [
    "### SEA057"
   ]
  },
  {
   "cell_type": "code",
   "execution_count": 47,
   "id": "f994ae29",
   "metadata": {
    "tags": []
   },
   "outputs": [
    {
     "data": {
      "application/vnd.jupyter.widget-view+json": {
       "model_id": "fc93f8d075e64e4e8535a4c91ce1ba6f",
       "version_major": 2,
       "version_minor": 0
      },
      "text/plain": [
       "  0%|          | 0/70 [00:00<?, ?it/s]"
      ]
     },
     "metadata": {},
     "output_type": "display_data"
    },
    {
     "data": {
      "application/vnd.jupyter.widget-view+json": {
       "model_id": "97fa0970a39b4bf1a24b000e68204f58",
       "version_major": 2,
       "version_minor": 0
      },
      "text/plain": [
       "  0%|          | 0/70 [00:00<?, ?it/s]"
      ]
     },
     "metadata": {},
     "output_type": "display_data"
    },
    {
     "data": {
      "application/vnd.jupyter.widget-view+json": {
       "model_id": "0882a916a89c4c9ba70b2f8af550d181",
       "version_major": 2,
       "version_minor": 0
      },
      "text/plain": [
       "  0%|          | 0/70 [00:00<?, ?it/s]"
      ]
     },
     "metadata": {},
     "output_type": "display_data"
    },
    {
     "data": {
      "application/vnd.jupyter.widget-view+json": {
       "model_id": "305628d83ee5475bbfb38b37cab104aa",
       "version_major": 2,
       "version_minor": 0
      },
      "text/plain": [
       "  0%|          | 0/70 [00:00<?, ?it/s]"
      ]
     },
     "metadata": {},
     "output_type": "display_data"
    },
    {
     "data": {
      "application/vnd.jupyter.widget-view+json": {
       "model_id": "997c2095087b475886068edd35650ff1",
       "version_major": 2,
       "version_minor": 0
      },
      "text/plain": [
       "  0%|          | 0/70 [00:00<?, ?it/s]"
      ]
     },
     "metadata": {},
     "output_type": "display_data"
    }
   ],
   "source": [
    "ds_sections_57_SIGMA = xr.Dataset(\n",
    "    coords=dict(\n",
    "        trans_num=([\"trans_num\"], np.unique(ds.transect_num)),\n",
    "        y=([\"y\"], sigmaaxis),\n",
    "        x=([\"x\"], daxis),      \n",
    "    ),\n",
    "    attrs={},\n",
    ")\n",
    "\n",
    "for i in variables_to_be_gridded:\n",
    "    PGW_sects=[rol_(sect_sigma(ds, i, sigmaaxis, N)) for N in tqdm(np.unique(ds.transect_num))]\n",
    "    ds_sections_57_SIGMA[i]=(('trans_num',  'y', 'x' ), np.array(PGW_sects))"
   ]
  },
  {
   "cell_type": "markdown",
   "id": "491c18ca-f46b-4163-8d2d-ff6c11878a9d",
   "metadata": {},
   "source": [
    "##### Save gridded datasets!"
   ]
  },
  {
   "cell_type": "code",
   "execution_count": 48,
   "id": "4c5c1f3f",
   "metadata": {
    "tags": []
   },
   "outputs": [],
   "source": [
    "ds_sections_02_SIGMA.to_netcdf('/home/jupyter-estelfont/datasets/oman_201516/final/gridded_SG502_sigma.nc')\n",
    "ds_sections_79_SIGMA.to_netcdf('/home/jupyter-estelfont/datasets/oman_201516/final/gridded_SG579_sigma.nc')\n",
    "ds_sections_10_SIGMA.to_netcdf('/home/jupyter-estelfont/datasets/oman_201516/final/gridded_SG510_sigma.nc')\n",
    "ds_sections_57_SIGMA.to_netcdf('/home/jupyter-estelfont/datasets/oman_202122/final/gridded_SEA057_sigma.nc')"
   ]
  }
 ],
 "metadata": {
  "kernelspec": {
   "display_name": "Python 3 (ipykernel)",
   "language": "python",
   "name": "python3"
  },
  "language_info": {
   "codemirror_mode": {
    "name": "ipython",
    "version": 3
   },
   "file_extension": ".py",
   "mimetype": "text/x-python",
   "name": "python",
   "nbconvert_exporter": "python",
   "pygments_lexer": "ipython3",
   "version": "3.9.7"
  }
 },
 "nbformat": 4,
 "nbformat_minor": 5
}
